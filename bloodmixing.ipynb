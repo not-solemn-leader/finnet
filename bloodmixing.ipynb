{
 "cells": [
  {
   "cell_type": "code",
   "execution_count": 1,
   "metadata": {},
   "outputs": [],
   "source": [
    "import numpy as np\n",
    "import pandas as pd\n",
    "import os"
   ]
  },
  {
   "cell_type": "markdown",
   "metadata": {},
   "source": [
    "Place whole submissions you want process in subs/"
   ]
  },
  {
   "cell_type": "code",
   "execution_count": 2,
   "metadata": {},
   "outputs": [
    {
     "name": "stdout",
     "output_type": "stream",
     "text": [
      "Count of files : 42\n"
     ]
    }
   ],
   "source": [
    "root = \"subs\"\n",
    "names = os.listdir(root)\n",
    "print(f\"Count of files : {len(names)}\")\n",
    "datas = []\n",
    "for i in names:\n",
    "    temp = pd.read_csv(f\"{root}/{i}\")\n",
    "    temp[\"id_3\"] = temp[['id_1','id_2']].apply(min, axis=1)\n",
    "    temp[\"id_4\"] = temp['id_1'] + temp['id_2'] - temp['id_3']\n",
    "    datas.append(temp[[\"id_3\", \"id_4\"]])"
   ]
  },
  {
   "cell_type": "markdown",
   "metadata": {},
   "source": [
    "id_3 is min, id_4 is max, to prevent dublicates"
   ]
  },
  {
   "cell_type": "code",
   "execution_count": 3,
   "metadata": {},
   "outputs": [
    {
     "name": "stdout",
     "output_type": "stream",
     "text": [
      "Processed 1/42\n",
      "Processed 2/42\n",
      "Processed 3/42\n",
      "Processed 4/42\n",
      "Processed 5/42\n",
      "Processed 6/42\n",
      "Processed 7/42\n",
      "Processed 8/42\n",
      "Processed 9/42\n",
      "Processed 10/42\n",
      "Processed 11/42\n",
      "Processed 12/42\n",
      "Processed 13/42\n",
      "Processed 14/42\n",
      "Processed 15/42\n",
      "Processed 16/42\n",
      "Processed 17/42\n",
      "Processed 18/42\n",
      "Processed 19/42\n",
      "Processed 20/42\n",
      "Processed 21/42\n",
      "Processed 22/42\n",
      "Processed 23/42\n",
      "Processed 24/42\n",
      "Processed 25/42\n",
      "Processed 26/42\n",
      "Processed 27/42\n",
      "Processed 28/42\n",
      "Processed 29/42\n",
      "Processed 30/42\n",
      "Processed 31/42\n",
      "Processed 32/42\n",
      "Processed 33/42\n",
      "Processed 34/42\n",
      "Processed 35/42\n",
      "Processed 36/42\n",
      "Processed 37/42\n",
      "Processed 38/42\n",
      "Processed 39/42\n",
      "Processed 40/42\n",
      "Processed 41/42\n",
      "Processed 42/42\n"
     ]
    }
   ],
   "source": [
    "concating = (datas[0][\"id_3\"].astype(\"str\") + \" \" + datas[0][\"id_4\"].astype(\"str\")).reset_index()\n",
    "for i in range(len(datas)):\n",
    "    data = datas[i][\"id_3\"].astype(\"str\") + \" \" + datas[i][\"id_4\"].astype(\"str\")\n",
    "    concating = concating.append(data.reset_index())\n",
    "    print(f\"Processed {i+1}/{len(datas)}\")"
   ]
  },
  {
   "cell_type": "code",
   "execution_count": 4,
   "metadata": {},
   "outputs": [],
   "source": [
    "concating.columns = [\"ind\",\"id_1 + id_2\"]"
   ]
  },
  {
   "cell_type": "markdown",
   "metadata": {},
   "source": [
    "Sorting all edges by their occurrence"
   ]
  },
  {
   "cell_type": "code",
   "execution_count": 5,
   "metadata": {},
   "outputs": [],
   "source": [
    "sorted_edges = concating.groupby(\"id_1 + id_2\").count().sort_values('ind', ascending=False).head(100000)"
   ]
  },
  {
   "cell_type": "code",
   "execution_count": 6,
   "metadata": {},
   "outputs": [],
   "source": [
    "sorted_edges[\"name\"] = sorted_edges.index"
   ]
  },
  {
   "cell_type": "code",
   "execution_count": 7,
   "metadata": {},
   "outputs": [],
   "source": [
    "sorted_edges[\"id_1\"] = sorted_edges[\"name\"].agg([lambda x: x.split()[0]])\n",
    "sorted_edges[\"id_2\"] = sorted_edges[\"name\"].agg([lambda x: x.split()[1]])"
   ]
  },
  {
   "cell_type": "code",
   "execution_count": 8,
   "metadata": {},
   "outputs": [
    {
     "data": {
      "text/html": [
       "<div>\n",
       "<style scoped>\n",
       "    .dataframe tbody tr th:only-of-type {\n",
       "        vertical-align: middle;\n",
       "    }\n",
       "\n",
       "    .dataframe tbody tr th {\n",
       "        vertical-align: top;\n",
       "    }\n",
       "\n",
       "    .dataframe thead th {\n",
       "        text-align: right;\n",
       "    }\n",
       "</style>\n",
       "<table border=\"1\" class=\"dataframe\">\n",
       "  <thead>\n",
       "    <tr style=\"text-align: right;\">\n",
       "      <th></th>\n",
       "      <th>ind</th>\n",
       "      <th>name</th>\n",
       "      <th>id_1</th>\n",
       "      <th>id_2</th>\n",
       "    </tr>\n",
       "    <tr>\n",
       "      <th>id_1 + id_2</th>\n",
       "      <th></th>\n",
       "      <th></th>\n",
       "      <th></th>\n",
       "      <th></th>\n",
       "    </tr>\n",
       "  </thead>\n",
       "  <tbody>\n",
       "    <tr>\n",
       "      <th>316963 640944</th>\n",
       "      <td>43</td>\n",
       "      <td>316963 640944</td>\n",
       "      <td>316963</td>\n",
       "      <td>640944</td>\n",
       "    </tr>\n",
       "    <tr>\n",
       "      <th>166977 524354</th>\n",
       "      <td>43</td>\n",
       "      <td>166977 524354</td>\n",
       "      <td>166977</td>\n",
       "      <td>524354</td>\n",
       "    </tr>\n",
       "    <tr>\n",
       "      <th>640944 1286352</th>\n",
       "      <td>43</td>\n",
       "      <td>640944 1286352</td>\n",
       "      <td>640944</td>\n",
       "      <td>1286352</td>\n",
       "    </tr>\n",
       "    <tr>\n",
       "      <th>122248 1292275</th>\n",
       "      <td>43</td>\n",
       "      <td>122248 1292275</td>\n",
       "      <td>122248</td>\n",
       "      <td>1292275</td>\n",
       "    </tr>\n",
       "    <tr>\n",
       "      <th>524354 932566</th>\n",
       "      <td>43</td>\n",
       "      <td>524354 932566</td>\n",
       "      <td>524354</td>\n",
       "      <td>932566</td>\n",
       "    </tr>\n",
       "    <tr>\n",
       "      <th>...</th>\n",
       "      <td>...</td>\n",
       "      <td>...</td>\n",
       "      <td>...</td>\n",
       "      <td>...</td>\n",
       "    </tr>\n",
       "    <tr>\n",
       "      <th>431253 524354</th>\n",
       "      <td>13</td>\n",
       "      <td>431253 524354</td>\n",
       "      <td>431253</td>\n",
       "      <td>524354</td>\n",
       "    </tr>\n",
       "    <tr>\n",
       "      <th>424301 1292407</th>\n",
       "      <td>13</td>\n",
       "      <td>424301 1292407</td>\n",
       "      <td>424301</td>\n",
       "      <td>1292407</td>\n",
       "    </tr>\n",
       "    <tr>\n",
       "      <th>41216 1235915</th>\n",
       "      <td>13</td>\n",
       "      <td>41216 1235915</td>\n",
       "      <td>41216</td>\n",
       "      <td>1235915</td>\n",
       "    </tr>\n",
       "    <tr>\n",
       "      <th>1049158 1301544</th>\n",
       "      <td>13</td>\n",
       "      <td>1049158 1301544</td>\n",
       "      <td>1049158</td>\n",
       "      <td>1301544</td>\n",
       "    </tr>\n",
       "    <tr>\n",
       "      <th>842652 929264</th>\n",
       "      <td>13</td>\n",
       "      <td>842652 929264</td>\n",
       "      <td>842652</td>\n",
       "      <td>929264</td>\n",
       "    </tr>\n",
       "  </tbody>\n",
       "</table>\n",
       "<p>100000 rows × 4 columns</p>\n",
       "</div>"
      ],
      "text/plain": [
       "                 ind             name     id_1     id_2\n",
       "id_1 + id_2                                            \n",
       "316963 640944     43    316963 640944   316963   640944\n",
       "166977 524354     43    166977 524354   166977   524354\n",
       "640944 1286352    43   640944 1286352   640944  1286352\n",
       "122248 1292275    43   122248 1292275   122248  1292275\n",
       "524354 932566     43    524354 932566   524354   932566\n",
       "...              ...              ...      ...      ...\n",
       "431253 524354     13    431253 524354   431253   524354\n",
       "424301 1292407    13   424301 1292407   424301  1292407\n",
       "41216 1235915     13    41216 1235915    41216  1235915\n",
       "1049158 1301544   13  1049158 1301544  1049158  1301544\n",
       "842652 929264     13    842652 929264   842652   929264\n",
       "\n",
       "[100000 rows x 4 columns]"
      ]
     },
     "execution_count": 8,
     "metadata": {},
     "output_type": "execute_result"
    }
   ],
   "source": [
    "sorted_edges"
   ]
  },
  {
   "cell_type": "markdown",
   "metadata": {},
   "source": [
    "Saving in directory"
   ]
  },
  {
   "cell_type": "code",
   "execution_count": 9,
   "metadata": {},
   "outputs": [],
   "source": [
    "sorted_edges[[\"id_1\", \"id_2\"]].to_csv('submission_blood_mixed.csv', index = False)"
   ]
  }
 ],
 "metadata": {
  "kernelspec": {
   "display_name": "Python 3",
   "language": "python",
   "name": "python3"
  },
  "language_info": {
   "codemirror_mode": {
    "name": "ipython",
    "version": 3
   },
   "file_extension": ".py",
   "mimetype": "text/x-python",
   "name": "python",
   "nbconvert_exporter": "python",
   "pygments_lexer": "ipython3",
   "version": "3.8.3rc1"
  }
 },
 "nbformat": 4,
 "nbformat_minor": 2
}
